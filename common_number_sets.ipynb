{
 "cells": [
  {
   "cell_type": "code",
   "execution_count": 25,
   "id": "3c90fcfe",
   "metadata": {},
   "outputs": [],
   "source": [
    "def find_common_elements(list1, list2):\n",
    "    common_elements = set(list1) & set(list2)\n",
    "    return list(common_elements)"
   ]
  },
  {
   "cell_type": "code",
   "execution_count": 29,
   "id": "689c96cc",
   "metadata": {},
   "outputs": [
    {
     "name": "stdout",
     "output_type": "stream",
     "text": [
      "choose your list1: 123456\n",
      "choose your list2: 13689\n"
     ]
    }
   ],
   "source": [
    "list1 = list(input(\"choose your list1: \"))\n",
    "list2 = list(input(\"choose your list2: \"))"
   ]
  },
  {
   "cell_type": "code",
   "execution_count": 30,
   "id": "8caad54b",
   "metadata": {},
   "outputs": [],
   "source": [
    "result = find_common_elements(list1, list2)"
   ]
  },
  {
   "cell_type": "code",
   "execution_count": 31,
   "id": "54e31229",
   "metadata": {},
   "outputs": [
    {
     "name": "stdout",
     "output_type": "stream",
     "text": [
      "Common elements: ['1', '3', '6']\n"
     ]
    }
   ],
   "source": [
    "print(\"Common elements:\", result)"
   ]
  },
  {
   "cell_type": "code",
   "execution_count": null,
   "id": "7d9a32ec",
   "metadata": {},
   "outputs": [],
   "source": []
  }
 ],
 "metadata": {
  "kernelspec": {
   "display_name": "Python 3 (ipykernel)",
   "language": "python",
   "name": "python3"
  },
  "language_info": {
   "codemirror_mode": {
    "name": "ipython",
    "version": 3
   },
   "file_extension": ".py",
   "mimetype": "text/x-python",
   "name": "python",
   "nbconvert_exporter": "python",
   "pygments_lexer": "ipython3",
   "version": "3.11.5"
  }
 },
 "nbformat": 4,
 "nbformat_minor": 5
}
